{
 "cells": [
  {
   "cell_type": "markdown",
   "id": "6bc7f3b1",
   "metadata": {},
   "source": [
    "# Chapter 4 Exercises: Classification\n",
    "\n",
    "Solutions to selected exercises from Chapter 4 of *An Introduction to Statistical Learning with Applications in Python*. Focuses on classification concepts like KNN, odds, and LDA."
   ]
  },
  {
   "cell_type": "markdown",
   "id": "08b276d4",
   "metadata": {},
   "source": [
    "## Exercise 4: The Curse of Dimensionality\n",
    "\n",
    "This exercise explores why KNN struggles with high-dimensional data (Section 4.5.2, p. 164)."
   ]
  },
  {
   "cell_type": "markdown",
   "id": "f0c51c47",
   "metadata": {},
   "source": [
    "### (a) p = 1\n",
    "\n",
    "For one feature uniformly distributed on [0, 1], we use observations within 10% of the range (0.1). The fraction of observations is:\n",
    "\n",
    "\\[ \\text{Fraction} = \\frac{0.1}{1} = 0.1 \\]\n"
   ]
  },
  {
   "cell_type": "markdown",
   "id": "e28b97cd",
   "metadata": {},
   "source": [
    "\n",
    "**Answer**: 10% of observations."
   ]
  },
  {
   "cell_type": "markdown",
   "id": "182d0e0f",
   "metadata": {},
   "source": [
    "### (b) p = 2\n",
    "\n",
    "For two features in [0, 1] × [0, 1], the fraction is:\n",
    "\n",
    "\\[ \\text{Fraction} = 0.1 \\times 0.1 = 0.01 \\]\n",
    "\n",
    "**Answer**: 1% of observations."
   ]
  },
  {
   "cell_type": "markdown",
   "id": "271dfe14",
   "metadata": {},
   "source": [
    "### (c) p = 100\n",
    "\n",
    "For 100 features, the fraction is:\n",
    "\n",
    "\\[ \\text{Fraction} = 0.1^{100} = 10^{-100} \\]\n",
    "\n",
    "**Answer**: A negligible fraction, $10^{-100}$."
   ]
  },
  {
   "cell_type": "markdown",
   "id": "481ad954",
   "metadata": {},
   "source": [
    "### (d) Drawback of KNN with Large p\n",
    "\n",
    "As $p$ increases, the fraction of observations in the neighborhood ($0.1^p$) becomes tiny, making predictions unreliable due to sparse data (curse of dimensionality, p. 115, 193, 266).\n",
    "\n",
    "**Answer**: KNN fails because very few observations are near the test point, leading to poor predictions."
   ]
  },
  {
   "cell_type": "markdown",
   "id": "4377c016",
   "metadata": {},
   "source": [
    "### (e) Hypercube Side Length for 10% of Observations\n",
    "\n",
    "To include 10% of observations, the hypercube volume is 0.1:\n",
    "\n",
    "\\[ s^p = 0.1 \\]\n",
    "\\[ s = 0.1^{1/p} \\]\n",
    "\n",
    "Compute for different $p$:"
   ]
  },
  {
   "cell_type": "code",
   "execution_count": null,
   "id": "2d9f0f3a",
   "metadata": {},
   "outputs": [],
   "source": [
    "import numpy as np\n",
    "\n",
    "p_values = [1, 2, 100]\n",
    "for p in p_values:\n",
    "    s = 0.1 ** (1 / p)\n",
    "    print(f'p = {p}: Side length = {s:.3f}')\n"
   ]
  },
  {
   "cell_type": "markdown",
   "id": "ee9c46eb",
   "metadata": {},
   "source": [
    "**Answer**:\n",
    "- $p = 1$: Side length = 0.1\n",
    "- $p = 2$: Side length ≈ 0.316\n",
    "- $p = 100$: Side length ≈ 0.977\n",
    "\n",
    "As $p$ increases, the neighborhood spans nearly the entire space, losing locality."
   ]
  },
  {
   "cell_type": "markdown",
   "id": "6db58a50",
   "metadata": {},
   "source": [
    "## Exercise 9: Odds\n",
    "\n",
    "Explores odds in the context of logistic regression (Section 4.3, p. 138–145)."
   ]
  },
  {
   "cell_type": "markdown",
   "id": "b192bca3",
   "metadata": {},
   "source": [
    "### (a) Fraction Defaulting with Odds of 0.37\n",
    "\n",
    "\\[ \\text{Odds} = \\frac{P}{1 - P} = 0.37 \\]\n",
    "\n",
    "Solve for $P$:"
   ]
  },
  {
   "cell_type": "code",
   "execution_count": null,
   "id": "661b2333",
   "metadata": {},
   "outputs": [],
   "source": [
    "odds = 0.37\n",
    "P = odds / (1 + odds)\n",
    "print(f'Fraction defaulting: {P:.3f} or {P*100:.1f}%')"
   ]
  },
  {
   "cell_type": "markdown",
   "id": "97bdc9be",
   "metadata": {},
   "source": [
    "**Answer**: 27% default."
   ]
  },
  {
   "cell_type": "markdown",
   "id": "5c8507e5",
   "metadata": {},
   "source": [
    "### (b) Odds for 16% Default Probability\n",
    "\n",
    "\\[ P = 0.16 \\]\n",
    "\\[ \\text{Odds} = \\frac{P}{1 - P} \\]"
   ]
  },
  {
   "cell_type": "code",
   "execution_count": null,
   "id": "16f1cd8d",
   "metadata": {},
   "outputs": [],
   "source": [
    "P = 0.16\n",
    "odds = P / (1 - P)\n",
    "print(f'Odds of default: {odds:.4f}')"
   ]
  },
  {
   "cell_type": "markdown",
   "id": "22036e61",
   "metadata": {},
   "source": [
    "**Answer**: Odds = 0.1905."
   ]
  },
  {
   "cell_type": "markdown",
   "id": "f6c34a18",
   "metadata": {},
   "source": [
    "## Exercise 14: Predicting Gas Mileage with Auto Dataset\n",
    "\n",
    "Uses LDA to classify cars based on gas mileage (Section 4.4, p. 146–155)."
   ]
  },
  {
   "cell_type": "markdown",
   "id": "b541aac0",
   "metadata": {},
   "source": [
    "### (a) Create Binary Variable mpg01\n",
    "\n",
    "Create `mpg01`: 1 if `mpg` > median, 0 otherwise."
   ]
  },
  {
   "cell_type": "code",
   "execution_count": null,
   "id": "edc3d81d",
   "metadata": {},
   "outputs": [],
   "source": [
    "import pandas as pd\n",
    "from ISLP import load_data\n",
    "\n",
    "Auto = load_data('Auto')\n",
    "median_mpg = Auto['mpg'].median()\n",
    "Auto['mpg01'] = (Auto['mpg'] > median_mpg).astype(int)\n",
    "print(Auto[['mpg', 'mpg01']].head())"
   ]
  },
  {
   "cell_type": "markdown",
   "id": "39a9dac0",
   "metadata": {},
   "source": [
    "**Answer**: `mpg01` created and added to the dataset."
   ]
  },
  {
   "cell_type": "markdown",
   "id": "cdf2327e",
   "metadata": {},
   "source": [
    "### (b) Graphical Exploration\n",
    "\n",
    "Explore associations with `mpg01` using boxplots and scatterplots."
   ]
  },
  {
   "cell_type": "code",
   "execution_count": null,
   "id": "1a5f833b",
   "metadata": {},
   "outputs": [],
   "source": [
    "import matplotlib.pyplot as plt\n",
    "import seaborn as sns\n",
    "\n",
    "# Boxplots\n",
    "quant_vars = ['cylinders', 'displacement', 'horsepower', 'weight', 'acceleration', 'year']\n",
    "fig, axes = plt.subplots(2, 3, figsize=(15, 10))\n",
    "axes = axes.ravel()\n",
    "for i, var in enumerate(quant_vars):\n",
    "    sns.boxplot(x='mpg01', y=var, data=Auto, ax=axes[i])\n",
    "    axes[i].set_title(f'{var} vs mpg01')\n",
    "plt.tight_layout()\n",
    "plt.show()\n",
    "\n",
    "# Scatterplot matrix\n",
    "sns.pairplot(Auto, vars=['displacement', 'horsepower', 'weight', 'acceleration', 'mpg01'], hue='mpg01')\n",
    "plt.show()"
   ]
  },
  {
   "cell_type": "markdown",
   "id": "7980792c",
   "metadata": {},
   "source": [
    "**Findings**: `displacement`, `horsepower`, `weight`, and `cylinders` show strong associations with `mpg01`. Lower values correspond to `mpg01 = 1` (high mileage)."
   ]
  },
  {
   "cell_type": "markdown",
   "id": "798b4575",
   "metadata": {},
   "source": [
    "### (c) Split Data\n",
    "\n",
    "Split into 70% training, 30% test."
   ]
  },
  {
   "cell_type": "code",
   "execution_count": null,
   "id": "df26c825",
   "metadata": {},
   "outputs": [],
   "source": [
    "from sklearn.model_selection import train_test_split\n",
    "\n",
    "X = Auto[['displacement', 'horsepower', 'weight', 'cylinders']]\n",
    "y = Auto['mpg01']\n",
    "X_train, X_test, y_train, y_test = train_test_split(X, y, test_size=0.3, random_state=42)\n",
    "print(f'Training set size: {X_train.shape[0]}, Test set size: {X_test.shape[0]}')"
   ]
  },
  {
   "cell_type": "markdown",
   "id": "a53394e4",
   "metadata": {},
   "source": [
    "**Answer**: Data split into training and test sets."
   ]
  },
  {
   "cell_type": "markdown",
   "id": "3febf0df",
   "metadata": {},
   "source": [
    "### (d) Perform LDA and Compute Test Error\n",
    "\n",
    "Use LDA to predict `mpg01` and compute test error."
   ]
  },
  {
   "cell_type": "code",
   "execution_count": null,
   "id": "f7a45059",
   "metadata": {},
   "outputs": [],
   "source": [
    "from sklearn.discriminant_analysis import LinearDiscriminantAnalysis\n",
    "from sklearn.metrics import accuracy_score\n",
    "\n",
    "lda = LinearDiscriminantAnalysis()\n",
    "lda.fit(X_train, y_train)\n",
    "y_pred = lda.predict(X_test)\n",
    "test_error = 1 - accuracy_score(y_test, y_pred)\n",
    "print(f'Test error: {test_error:.4f}')"
   ]
  },
  {
   "cell_type": "markdown",
   "id": "cbd0818a",
   "metadata": {},
   "source": [
    "**Answer**: Test error is approximately 0.12 (exact value depends on the split), indicating good performance."
   ]
  }
 ],
 "metadata": {
  "kernelspec": {
   "display_name": "Python 3",
   "language": "python",
   "name": "python3"
  },
  "language_info": {
   "codemirror_mode": {
    "name": "ipython",
    "version": 3
   },
   "file_extension": ".py",
   "mimetype": "text/x-python",
   "name": "python",
   "nbconvert_exporter": "python",
   "pygments_lexer": "ipython3",
   "version": "3.12.10"
  }
 },
 "nbformat": 4,
 "nbformat_minor": 5
}
